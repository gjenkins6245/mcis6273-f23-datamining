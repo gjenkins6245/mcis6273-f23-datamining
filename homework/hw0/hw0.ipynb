{
 "cells": [
  {
   "cell_type": "markdown",
   "id": "2993ba43-0475-47f9-81a8-4593f9d60a7d",
   "metadata": {},
   "source": [
    "#### *How data scientists use Python* Task Responses  \r\n",
    "1.  - I learned about the differences between software development and data science.\r\n",
    "    - I learned about the many different environments and platforms where you can write Python.\r\n",
    "    - I learned about the incompatibility of moving from Python 2 to Python 3.\r\n",
    "2. The podcast was a great introduction to Python and Data Science. The topic of documenting code is something I very much agree with. There have been times when I didn't document/comment my code and it took me much longer than it should have to refresh myself on the code months later. This is amplified by interacting with code written by others.\r\n",
    "3. Yes, it introduced me to some of the many Data Science Python libraries and typical approach to Data Science.\r\n",
    "4. The most *surprising* fact for me was how different the approaches to software development and Data Science are. My background is more in Software development, and I am more familiar with class-based programming. I was not aware that Data Science does not typically follow that same appoach.\r\n"
   ]
  },
  {
   "cell_type": "code",
   "execution_count": 54,
   "id": "151b7634-07d7-4aa2-8a93-5ccef102b7fa",
   "metadata": {},
   "outputs": [
    {
     "name": "stdout",
     "output_type": "stream",
     "text": [
      "5971.87s - pydevd: Sending message related to process being replaced timed-out after 5 seconds\n",
      "--2023-09-27 03:35:33--  https://www.gutenberg.org/cache/epub/5827/pg5827.txt\n",
      "Resolving www.gutenberg.org (www.gutenberg.org)... 152.19.134.47, 2610:28:3090:3000:0:bad:cafe:47\n",
      "Connecting to www.gutenberg.org (www.gutenberg.org)|152.19.134.47|:443... connected.\n",
      "HTTP request sent, awaiting response... 200 OK\n",
      "Length: 269684 (263K) [text/plain]\n",
      "Saving to: ‘TheProblemsOfPhilosophy.txt’\n",
      "\n",
      "TheProblemsOfPhilos 100%[===================>] 263.36K  --.-KB/s    in 0.1s    \n",
      "\n",
      "2023-09-27 03:35:33 (1.90 MB/s) - ‘TheProblemsOfPhilosophy.txt’ saved [269684/269684]\n",
      "\n"
     ]
    }
   ],
   "source": [
    "!wget https://www.gutenberg.org/cache/epub/5827/pg5827.txt -O TheProblemsOfPhilosophy.txt"
   ]
  },
  {
   "cell_type": "code",
   "execution_count": 55,
   "id": "a82fd92c-3000-40e2-8b60-770369629430",
   "metadata": {},
   "outputs": [],
   "source": [
    "from pathlib import Path\n",
    "\n",
    "file = Path.cwd() / 'TheProblemsOfPhilosophy.txt'\n",
    "\n",
    "with open(file, 'r') as textFile:\n",
    "    text = textFile.read()\n",
    "\n",
    "list = text.split()\n",
    "list.sort()"
   ]
  },
  {
   "cell_type": "code",
   "execution_count": 56,
   "id": "b5bed01a-69bc-488e-b4d2-0b2f843a8c7a",
   "metadata": {},
   "outputs": [],
   "source": [
    "from string import punctuation\n",
    "\n",
    "allWords = []\n",
    "allUppercaseWords = []\n",
    "\n",
    "for word in list:\n",
    "    newWord = word.strip(punctuation).strip(\"“\").strip(\"”\").strip(\"™\").strip(\"\\ufeff\").strip(\"‘\").strip(\"’\").strip(\"•\")\n",
    "    if newWord != '':\n",
    "        allWords.append(newWord.lower())\n",
    "        if newWord[0].isupper():\n",
    "            allUppercaseWords.append(newWord)\n",
    "\n",
    "allWords.sort()\n",
    "allUppercaseWords.sort()"
   ]
  },
  {
   "cell_type": "code",
   "execution_count": 57,
   "id": "2eaec4cd-008d-409b-b940-ad98d1b62bca",
   "metadata": {},
   "outputs": [],
   "source": [
    "import pandas as pd\n",
    "\n",
    "pd.DataFrame(allWords, columns=['word']).value_counts(sort=False).to_frame('count').to_csv('all_words.csv')\n",
    "pd.DataFrame(allUppercaseWords, columns=['word']).value_counts(sort=False).to_frame('count').to_csv('all_uppercase_words.csv')"
   ]
  },
  {
   "cell_type": "markdown",
   "id": "a4b2b939-211f-4833-acc8-27d997313cf0",
   "metadata": {},
   "source": [
    "#### *The Problems of Philosophy* Task Responses  \n",
    "1. The five most frequent words in all_words.csv were:\n",
    "    - the  \n",
    "    - of  \n",
    "    - is \n",
    "    - to  \n",
    "    - and\n",
    "2. The five most frequent words in all_uppercase_words.csv were:\n",
    "    - The  \n",
    "    - I  \n",
    "    - It  \n",
    "    - But  \n",
    "    - Thus\n",
    "3. Most of the words from both lists are common words with little meaning on their own. The biggest difference are words like 'I' and 'Thus'. 'I' should always be capitalized and 'Thus' is a common way to start a sentence, which makes them less likely to be on the all_word list.\n",
    "4. The most surprising part of both lists is that the word 'a' is not in the top 5 words. To me it is common both as a start of a sentence and in the middle of sentences. Also, 'But' being in the uppercase words surprised me. I don't commonly start sentences with 'But'."
   ]
  },
  {
   "cell_type": "code",
   "execution_count": 58,
   "id": "16f24f72-d719-4e9a-a668-eab7b4cab734",
   "metadata": {},
   "outputs": [
    {
     "name": "stdout",
     "output_type": "stream",
     "text": [
      "5986.42s - pydevd: Sending message related to process being replaced timed-out after 5 seconds\n",
      "--2023-09-27 03:35:47--  https://raw.githubusercontent.com/stopwords-iso/stopwords-en/master/stopwords-en.txt\n",
      "Resolving raw.githubusercontent.com (raw.githubusercontent.com)... 185.199.108.133, 185.199.109.133, 185.199.110.133, ...\n",
      "Connecting to raw.githubusercontent.com (raw.githubusercontent.com)|185.199.108.133|:443... connected.\n",
      "HTTP request sent, awaiting response... 200 OK\n",
      "Length: 7677 (7.5K) [text/plain]\n",
      "Saving to: ‘stopwords.txt’\n",
      "\n",
      "stopwords.txt       100%[===================>]   7.50K  --.-KB/s    in 0s      \n",
      "\n",
      "2023-09-27 03:35:47 (110 MB/s) - ‘stopwords.txt’ saved [7677/7677]\n",
      "\n"
     ]
    }
   ],
   "source": [
    "!wget https://raw.githubusercontent.com/stopwords-iso/stopwords-en/master/stopwords-en.txt -O stopwords.txt"
   ]
  },
  {
   "cell_type": "code",
   "execution_count": 59,
   "id": "e66716cb-36c6-46f7-bc5f-a11ea58057b9",
   "metadata": {},
   "outputs": [],
   "source": [
    "from pathlib import Path\n",
    "\n",
    "swFile = Path.cwd() / 'stopwords.txt'\n",
    "\n",
    "with open(swFile, 'r') as swText:\n",
    "    swText = swText.read()\n",
    "\n",
    "swList = swText.split()\n",
    "swList.sort()\n",
    "#print(swList)"
   ]
  },
  {
   "cell_type": "code",
   "execution_count": 60,
   "id": "2e56028e-d729-4fcf-9b71-847bf1612577",
   "metadata": {},
   "outputs": [],
   "source": [
    "nonStopwords = []\n",
    "\n",
    "for awWord in allWords:\n",
    "    if awWord.lower() not in swList:\n",
    "        nonStopwords.append(awWord)"
   ]
  },
  {
   "cell_type": "code",
   "execution_count": 61,
   "id": "86b01845-6d06-4645-bc9d-bfe363cbfcfa",
   "metadata": {},
   "outputs": [],
   "source": [
    "import pandas as pd\n",
    "\n",
    "nonStopwordsCount = len(nonStopwords)\n",
    "\n",
    "df = pd.DataFrame(nonStopwords, columns=['word']).value_counts(sort=False).to_frame('count')\n",
    "\n",
    "df['probability'] = df['count'] / nonStopwordsCount\n",
    "\n",
    "df.to_csv('all_ns_words.csv')"
   ]
  },
  {
   "cell_type": "code",
   "execution_count": 62,
   "id": "2b1d7332-e69b-4ea2-83f3-4510db2bd48f",
   "metadata": {},
   "outputs": [
    {
     "name": "stdout",
     "output_type": "stream",
     "text": [
      "0.02120535714285714\n",
      "0.023958333333333335\n"
     ]
    }
   ],
   "source": [
    "from string import punctuation\n",
    "\n",
    "sentence1Prob = 0.00\n",
    "sentence2Prob = 0.00\n",
    "newList1 = []\n",
    "newList2 = []\n",
    "\n",
    "sentence1 = 'If a belief is true, it can be deduced it is universal.'\n",
    "sentence2 = 'Criticism of knowledge is counter to scientific results.'\n",
    "\n",
    "list1 = sentence1.split()\n",
    "list2 = sentence2.split()\n",
    "\n",
    "for word0 in list1:\n",
    "    newWord = word0.strip(punctuation).strip(\"“\").strip(\"”\").strip(\"™\").strip(\"\\ufeff\").strip(\"‘\").strip(\"’\").strip(\"•\")\n",
    "    if newWord != '':\n",
    "        newList1.append(newWord.lower())\n",
    "\n",
    "for word0 in list2:\n",
    "    newWord = word0.strip(punctuation).strip(\"“\").strip(\"”\").strip(\"™\").strip(\"\\ufeff\").strip(\"‘\").strip(\"’\").strip(\"•\")\n",
    "    if newWord != '':\n",
    "        newList2.append(newWord.lower())\n",
    "\n",
    "for word1 in newList1:\n",
    "    if word1 in nonStopwords:\n",
    "        sentence1Prob += df.loc[word1,'probability'][0]\n",
    "        \n",
    "for word2 in newList2:\n",
    "    if word2 in nonStopwords:\n",
    "        sentence2Prob += df.loc[word2,'probability'][0]\n",
    "\n",
    "print(sentence1Prob)\n",
    "print(sentence2Prob)"
   ]
  },
  {
   "attachments": {},
   "cell_type": "markdown",
   "id": "e968d38c-9010-49c8-8fab-166d7bdb7257",
   "metadata": {},
   "source": [
    "#### Non-stop words tasks  \n",
    "1. There are 2984 non-stop words (non-case sensitive).\n",
    "2. There are 1462 least probable words that only occur once in the *The Problems of Philosophy*. Some of the words include:  \n",
    "    - avoided  \n",
    "    - shortly  \n",
    "    - sweet  \n",
    "    - warrants\n",
    "3. The most common words are those you would most expect to see in a text on philosophy. Some examples include knowledge, belief, and truth.\n",
    "4. \"Criticism of knowledge is counter to scientific results.\" is more likely with a probability of 0.023958333333333335, while \"If a belief is true, it can be deduced it is universal.\" has a probability of 0.02120535714285714."
   ]
  }
 ],
 "metadata": {
  "kernelspec": {
   "display_name": "Python [conda env:sau-fall-2023]",
   "language": "python",
   "name": "conda-env-sau-fall-2023-py"
  },
  "language_info": {
   "codemirror_mode": {
    "name": "ipython",
    "version": 3
   },
   "file_extension": ".py",
   "mimetype": "text/x-python",
   "name": "python",
   "nbconvert_exporter": "python",
   "pygments_lexer": "ipython3",
   "version": "3.11.4"
  }
 },
 "nbformat": 4,
 "nbformat_minor": 5
}
